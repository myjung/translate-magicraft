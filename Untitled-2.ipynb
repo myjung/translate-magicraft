{
 "cells": [
  {
   "cell_type": "code",
   "execution_count": null,
   "metadata": {},
   "outputs": [],
   "source": [
    "import UnityPy\n",
    "import pathlib\n",
    "import toml\n",
    "import os\n",
    "import shutil\n",
    "import json\n",
    "from copy import deepcopy"
   ]
  },
  {
   "cell_type": "code",
   "execution_count": null,
   "metadata": {},
   "outputs": [],
   "source": [
    "toml_path = pathlib.Path(os.curdir).absolute().joinpath(\"localconfig.toml\")\n",
    "asset_path = \"Magicraft_Data/resources.assets\"\n",
    "t = toml.load(toml_path)"
   ]
  },
  {
   "cell_type": "code",
   "execution_count": null,
   "metadata": {},
   "outputs": [],
   "source": [
    "resource_asset_path = pathlib.Path(t['local']['GAME_PATH']).joinpath(asset_path)\n",
    "# create the backup directory if it does not exist\n",
    "backup_dir = pathlib.Path(\"./backup\")\n",
    "dist_dir = pathlib.Path(\"./dist\")\n",
    "backup_dir.mkdir(parents=True, exist_ok=True)\n",
    "# make a backup path for resources.assets\n",
    "# shutil.copyfile(resource_asset_path, backup_dir.joinpath(\"resources.assets\"))\n",
    "shutil.copyfile(resource_asset_path, dist_dir.joinpath(\"resources.assets\"))"
   ]
  },
  {
   "cell_type": "code",
   "execution_count": null,
   "metadata": {},
   "outputs": [],
   "source": [
    "env = UnityPy.load(open(pathlib.Path(dist_dir).joinpath(\"resources.assets\"), 'rb').read())"
   ]
  },
  {
   "cell_type": "code",
   "execution_count": null,
   "metadata": {},
   "outputs": [],
   "source": [
    "extracted_objects = dict()\n",
    "obj_path_dicts = dict()\n",
    "for obj in env.objects:\n",
    "    if obj.type.name == \"TextAsset\":\n",
    "        data = obj.read()\n",
    "        if \"TextConfig\" in data.m_Name:\n",
    "            # print(repr(data.m_Script))\n",
    "            # break\n",
    "            obj_path_dicts[data.m_Name] = obj.path_id\n",
    "            extracted_objects[data.m_Name] = data"
   ]
  },
  {
   "cell_type": "code",
   "execution_count": null,
   "metadata": {},
   "outputs": [],
   "source": [
    "obj_path_dicts"
   ]
  },
  {
   "cell_type": "code",
   "execution_count": null,
   "metadata": {},
   "outputs": [],
   "source": [
    "extracted_objects[\"TextConfig\"]"
   ]
  },
  {
   "cell_type": "code",
   "execution_count": null,
   "metadata": {},
   "outputs": [],
   "source": [
    "translated = dict()\n",
    "with open(\"translated.tsv\",\"r\", encoding='utf-8', newline=\"\\r\\n\") as f:\n",
    "    f.readline()\n",
    "    for line in f:\n",
    "        if not line:\n",
    "            continue\n",
    "        which_asset, id, chinese_s, _, _,_,_,_,_,_,_,korean = line.split(\"\\t\")\n",
    "        korean = korean.rstrip()\n",
    "        if korean:\n",
    "            # print(which_asset)\n",
    "            translated.setdefault(which_asset,dict())\n",
    "            translated[which_asset].setdefault(id, dict())\n",
    "            translated[which_asset][id] = korean\n",
    "        else:\n",
    "            print(line)\n",
    "# print(translated)"
   ]
  },
  {
   "cell_type": "code",
   "execution_count": null,
   "metadata": {},
   "outputs": [],
   "source": [
    "from pprint import pprint as pp\n",
    "pp(translated)"
   ]
  },
  {
   "cell_type": "code",
   "execution_count": null,
   "metadata": {},
   "outputs": [],
   "source": [
    "new_texts = json.loads(extracted_objects[\"TextConfig\"].m_Script)\n",
    "for text in new_texts:\n",
    "    if nt := translated[\"TextConfig\"].get(str(text[\"id\"]),\"\"):\n",
    "        text[\"english\"] = nt\n",
    "        \n",
    "    "
   ]
  },
  {
   "cell_type": "code",
   "execution_count": null,
   "metadata": {},
   "outputs": [],
   "source": [
    "new_texts"
   ]
  },
  {
   "cell_type": "code",
   "execution_count": null,
   "metadata": {},
   "outputs": [],
   "source": [
    "extracted_objects[\"TextConfig\"].m_Script = json.dumps(new_texts, ensure_ascii=False, indent=2)"
   ]
  },
  {
   "cell_type": "code",
   "execution_count": null,
   "metadata": {},
   "outputs": [],
   "source": [
    "print(extracted_objects[\"TextConfig\"].m_Script)"
   ]
  },
  {
   "cell_type": "code",
   "execution_count": null,
   "metadata": {},
   "outputs": [],
   "source": [
    "extracted_objects[\"TextConfig\"].save()"
   ]
  },
  {
   "cell_type": "code",
   "execution_count": null,
   "metadata": {},
   "outputs": [],
   "source": [
    "with open(pathlib.Path(dist_dir).joinpath(\"resources.assets\"), 'wb') as f:\n",
    "    f.write(env.file.save())"
   ]
  }
 ],
 "metadata": {
  "kernelspec": {
   "display_name": ".venv",
   "language": "python",
   "name": "python3"
  },
  "language_info": {
   "codemirror_mode": {
    "name": "ipython",
    "version": 3
   },
   "file_extension": ".py",
   "mimetype": "text/x-python",
   "name": "python",
   "nbconvert_exporter": "python",
   "pygments_lexer": "ipython3",
   "version": "3.12.1"
  }
 },
 "nbformat": 4,
 "nbformat_minor": 2
}
